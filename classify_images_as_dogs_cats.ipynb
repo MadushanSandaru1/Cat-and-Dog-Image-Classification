{
  "cells": [
    {
      "cell_type": "code",
      "source": [
        "from google.colab import drive\n",
        "drive.mount('/content/drive')"
      ],
      "metadata": {
        "colab": {
          "base_uri": "https://localhost:8080/"
        },
        "id": "3cWmTLZRpwB1",
        "outputId": "35bff236-0c44-47d3-c32b-907b8e3af372"
      },
      "id": "3cWmTLZRpwB1",
      "execution_count": 17,
      "outputs": [
        {
          "output_type": "stream",
          "name": "stdout",
          "text": [
            "Drive already mounted at /content/drive; to attempt to forcibly remount, call drive.mount(\"/content/drive\", force_remount=True).\n"
          ]
        }
      ]
    },
    {
      "cell_type": "code",
      "execution_count": 20,
      "id": "7ad12cee",
      "metadata": {
        "execution": {
          "iopub.execute_input": "2022-05-21T16:34:45.911421Z",
          "iopub.status.busy": "2022-05-21T16:34:45.911102Z",
          "iopub.status.idle": "2022-05-21T16:34:45.914619Z",
          "shell.execute_reply": "2022-05-21T16:34:45.913912Z"
        },
        "papermill": {
          "duration": 0.036841,
          "end_time": "2022-05-21T16:34:45.916313",
          "exception": false,
          "start_time": "2022-05-21T16:34:45.879472",
          "status": "completed"
        },
        "tags": [],
        "id": "7ad12cee"
      },
      "outputs": [],
      "source": [
        "train_path='./drive/MyDrive/Colab Notebooks/cat_and_dog/training_set/'\n",
        "test_path='./drive/MyDrive/Colab Notebooks/cat_and_dog/test_set/'"
      ]
    },
    {
      "cell_type": "code",
      "execution_count": 21,
      "id": "45061ecf",
      "metadata": {
        "execution": {
          "iopub.execute_input": "2022-05-21T16:34:45.977283Z",
          "iopub.status.busy": "2022-05-21T16:34:45.976772Z",
          "iopub.status.idle": "2022-05-21T16:34:52.214450Z",
          "shell.execute_reply": "2022-05-21T16:34:52.213707Z"
        },
        "papermill": {
          "duration": 6.270967,
          "end_time": "2022-05-21T16:34:52.216866",
          "exception": false,
          "start_time": "2022-05-21T16:34:45.945899",
          "status": "completed"
        },
        "tags": [],
        "colab": {
          "base_uri": "https://localhost:8181/"
        },
        "id": "45061ecf",
        "outputId": "cf9f3202-80ae-4942-ee8d-ade2a19ad1d6"
      },
      "outputs": [
        {
          "output_type": "stream",
          "name": "stdout",
          "text": [
            "Found 1580 images belonging to 2 classes.\n"
          ]
        }
      ],
      "source": [
        "#data generator \n",
        "from keras.preprocessing.image import ImageDataGenerator\n",
        "train_data=ImageDataGenerator(rescale=1./255)\n",
        "train_set=train_data.flow_from_directory(directory=train_path,target_size=(128,128),batch_size=32,color_mode=\"rgb\",class_mode = 'binary')"
      ]
    },
    {
      "cell_type": "code",
      "execution_count": 22,
      "id": "c82d9b00",
      "metadata": {
        "execution": {
          "iopub.execute_input": "2022-05-21T16:34:52.274223Z",
          "iopub.status.busy": "2022-05-21T16:34:52.273990Z",
          "iopub.status.idle": "2022-05-21T16:34:52.383890Z",
          "shell.execute_reply": "2022-05-21T16:34:52.383054Z"
        },
        "papermill": {
          "duration": 0.140607,
          "end_time": "2022-05-21T16:34:52.386065",
          "exception": false,
          "start_time": "2022-05-21T16:34:52.245458",
          "status": "completed"
        },
        "tags": [],
        "colab": {
          "base_uri": "https://localhost:8080/"
        },
        "id": "c82d9b00",
        "outputId": "3ea9a821-f1d8-44f4-a2a8-e50d1bbeb2b2"
      },
      "outputs": [
        {
          "output_type": "stream",
          "name": "stdout",
          "text": [
            "Found 2033 images belonging to 2 classes.\n"
          ]
        }
      ],
      "source": [
        "test_data=ImageDataGenerator(rescale=1./255)\n",
        "test_set=train_data.flow_from_directory(directory=test_path,target_size=(128,128),batch_size=32,color_mode=\"rgb\",class_mode = 'binary')"
      ]
    },
    {
      "cell_type": "markdown",
      "id": "6ad5a823",
      "metadata": {
        "papermill": {
          "duration": 0.026656,
          "end_time": "2022-05-21T16:34:52.440952",
          "exception": false,
          "start_time": "2022-05-21T16:34:52.414296",
          "status": "completed"
        },
        "tags": [],
        "id": "6ad5a823"
      },
      "source": [
        "Build model"
      ]
    },
    {
      "cell_type": "code",
      "execution_count": 23,
      "id": "4fe08696",
      "metadata": {
        "execution": {
          "iopub.execute_input": "2022-05-21T16:34:52.496107Z",
          "iopub.status.busy": "2022-05-21T16:34:52.495867Z",
          "iopub.status.idle": "2022-05-21T16:34:55.116363Z",
          "shell.execute_reply": "2022-05-21T16:34:55.115646Z"
        },
        "papermill": {
          "duration": 2.650699,
          "end_time": "2022-05-21T16:34:55.118638",
          "exception": false,
          "start_time": "2022-05-21T16:34:52.467939",
          "status": "completed"
        },
        "tags": [],
        "id": "4fe08696"
      },
      "outputs": [],
      "source": [
        "import keras\n",
        "from keras.models import Sequential\n",
        "from keras.layers import Dense,Conv2D,MaxPooling2D,Flatten\n",
        "model = Sequential()\n",
        "\n",
        "# first layer \n",
        "model.add(Conv2D(32,(3,3),input_shape=(128,128,3),activation='relu'))\n",
        "model.add(MaxPooling2D(pool_size=(2,2)))\n",
        "\n",
        "# second layer\n",
        "model.add(Conv2D(64,(3,3),activation='relu'))\n",
        "model.add(MaxPooling2D(pool_size=(2,2)))\n",
        "\n",
        "# flattern layer\n",
        "model.add(Flatten())\n",
        "\n",
        "# Dense layer\n",
        "model.add(Dense(256,activation='relu'))\n",
        "model.add(Dense(1,activation='sigmoid'))"
      ]
    },
    {
      "cell_type": "code",
      "execution_count": 24,
      "id": "aaeb1a8c",
      "metadata": {
        "execution": {
          "iopub.execute_input": "2022-05-21T16:34:55.175126Z",
          "iopub.status.busy": "2022-05-21T16:34:55.174926Z",
          "iopub.status.idle": "2022-05-21T16:34:55.182356Z",
          "shell.execute_reply": "2022-05-21T16:34:55.181666Z"
        },
        "papermill": {
          "duration": 0.03735,
          "end_time": "2022-05-21T16:34:55.184027",
          "exception": false,
          "start_time": "2022-05-21T16:34:55.146677",
          "status": "completed"
        },
        "tags": [],
        "colab": {
          "base_uri": "https://localhost:8080/"
        },
        "id": "aaeb1a8c",
        "outputId": "46e14a3e-e4cb-4de1-e4c1-66aafc2f3853"
      },
      "outputs": [
        {
          "output_type": "stream",
          "name": "stdout",
          "text": [
            "Model: \"sequential\"\n",
            "_________________________________________________________________\n",
            " Layer (type)                Output Shape              Param #   \n",
            "=================================================================\n",
            " conv2d (Conv2D)             (None, 126, 126, 32)      896       \n",
            "                                                                 \n",
            " max_pooling2d (MaxPooling2D  (None, 63, 63, 32)       0         \n",
            " )                                                               \n",
            "                                                                 \n",
            " conv2d_1 (Conv2D)           (None, 61, 61, 64)        18496     \n",
            "                                                                 \n",
            " max_pooling2d_1 (MaxPooling  (None, 30, 30, 64)       0         \n",
            " 2D)                                                             \n",
            "                                                                 \n",
            " flatten (Flatten)           (None, 57600)             0         \n",
            "                                                                 \n",
            " dense (Dense)               (None, 256)               14745856  \n",
            "                                                                 \n",
            " dense_1 (Dense)             (None, 1)                 257       \n",
            "                                                                 \n",
            "=================================================================\n",
            "Total params: 14,765,505\n",
            "Trainable params: 14,765,505\n",
            "Non-trainable params: 0\n",
            "_________________________________________________________________\n"
          ]
        }
      ],
      "source": [
        "model.summary()"
      ]
    },
    {
      "cell_type": "code",
      "execution_count": 25,
      "id": "30a05933",
      "metadata": {
        "execution": {
          "iopub.execute_input": "2022-05-21T16:34:55.241119Z",
          "iopub.status.busy": "2022-05-21T16:34:55.240933Z",
          "iopub.status.idle": "2022-05-21T16:34:55.251437Z",
          "shell.execute_reply": "2022-05-21T16:34:55.250826Z"
        },
        "papermill": {
          "duration": 0.040816,
          "end_time": "2022-05-21T16:34:55.252997",
          "exception": false,
          "start_time": "2022-05-21T16:34:55.212181",
          "status": "completed"
        },
        "tags": [],
        "id": "30a05933"
      },
      "outputs": [],
      "source": [
        "# compile the model\n",
        "model.compile(optimizer='adam',loss='binary_crossentropy',metrics=['accuracy'])"
      ]
    },
    {
      "cell_type": "code",
      "execution_count": 26,
      "id": "db6a4832",
      "metadata": {
        "execution": {
          "iopub.execute_input": "2022-05-21T16:34:55.311629Z",
          "iopub.status.busy": "2022-05-21T16:34:55.311449Z",
          "iopub.status.idle": "2022-05-21T16:41:05.484117Z",
          "shell.execute_reply": "2022-05-21T16:41:05.483342Z"
        },
        "papermill": {
          "duration": 370.205597,
          "end_time": "2022-05-21T16:41:05.486497",
          "exception": false,
          "start_time": "2022-05-21T16:34:55.280900",
          "status": "completed"
        },
        "tags": [],
        "colab": {
          "base_uri": "https://localhost:8080/"
        },
        "id": "db6a4832",
        "outputId": "eefc4e86-357c-4767-a798-eab15b6ed9f3"
      },
      "outputs": [
        {
          "output_type": "stream",
          "name": "stdout",
          "text": [
            "Epoch 1/10\n",
            "50/50 [==============================] - 352s 7s/step - loss: 0.0126 - accuracy: 1.0000 - val_loss: 140.5261 - val_accuracy: 0.4978\n",
            "Epoch 2/10\n",
            "50/50 [==============================] - 61s 1s/step - loss: 3.6083e-37 - accuracy: 1.0000 - val_loss: 142.3481 - val_accuracy: 0.4978\n",
            "Epoch 3/10\n",
            "50/50 [==============================] - 62s 1s/step - loss: 3.4413e-37 - accuracy: 1.0000 - val_loss: 142.3607 - val_accuracy: 0.4978\n",
            "Epoch 4/10\n",
            "50/50 [==============================] - 61s 1s/step - loss: 3.4413e-37 - accuracy: 1.0000 - val_loss: 142.3607 - val_accuracy: 0.4978\n",
            "Epoch 5/10\n",
            "50/50 [==============================] - 61s 1s/step - loss: 3.4413e-37 - accuracy: 1.0000 - val_loss: 142.3607 - val_accuracy: 0.4978\n",
            "Epoch 6/10\n",
            "50/50 [==============================] - 63s 1s/step - loss: 3.4413e-37 - accuracy: 1.0000 - val_loss: 142.3607 - val_accuracy: 0.4978\n",
            "Epoch 7/10\n",
            "50/50 [==============================] - 63s 1s/step - loss: 3.4413e-37 - accuracy: 1.0000 - val_loss: 142.3607 - val_accuracy: 0.4978\n",
            "Epoch 8/10\n",
            "50/50 [==============================] - 61s 1s/step - loss: 3.4413e-37 - accuracy: 1.0000 - val_loss: 142.3607 - val_accuracy: 0.4978\n",
            "Epoch 9/10\n",
            "50/50 [==============================] - 65s 1s/step - loss: 3.4413e-37 - accuracy: 1.0000 - val_loss: 142.3607 - val_accuracy: 0.4978\n",
            "Epoch 10/10\n",
            "50/50 [==============================] - 63s 1s/step - loss: 3.4413e-37 - accuracy: 1.0000 - val_loss: 142.3607 - val_accuracy: 0.4978\n"
          ]
        }
      ],
      "source": [
        "model_history=model.fit(train_set,validation_data=test_set,epochs=10)"
      ]
    },
    {
      "cell_type": "code",
      "execution_count": 27,
      "id": "c66035c7",
      "metadata": {
        "execution": {
          "iopub.execute_input": "2022-05-21T16:41:07.096831Z",
          "iopub.status.busy": "2022-05-21T16:41:07.096575Z",
          "iopub.status.idle": "2022-05-21T16:41:07.307814Z",
          "shell.execute_reply": "2022-05-21T16:41:07.307147Z"
        },
        "papermill": {
          "duration": 1.020935,
          "end_time": "2022-05-21T16:41:07.309945",
          "exception": false,
          "start_time": "2022-05-21T16:41:06.289010",
          "status": "completed"
        },
        "tags": [],
        "colab": {
          "base_uri": "https://localhost:8080/",
          "height": 317
        },
        "id": "c66035c7",
        "outputId": "eabba4f9-3204-43f6-c314-70c9778a0a11"
      },
      "outputs": [
        {
          "output_type": "execute_result",
          "data": {
            "text/plain": [
              "<matplotlib.legend.Legend at 0x7fd7bfcdb290>"
            ]
          },
          "metadata": {},
          "execution_count": 27
        },
        {
          "output_type": "display_data",
          "data": {
            "text/plain": [
              "<Figure size 432x288 with 1 Axes>"
            ],
            "image/png": "[encoded data removed]"
          },
          "metadata": {}
        }
      ],
      "source": [
        "import matplotlib.pyplot as plt\n",
        "import numpy as np\n",
        "\n",
        "plt.style.use(\"ggplot\")\n",
        "plt.figure()\n",
        "\n",
        "plt.plot(np.arange(0, 10),model_history.history[\"accuracy\"], label=\"train_acc\")\n",
        "plt.plot(np.arange(0, 10),model_history.history[\"val_accuracy\"], label=\"val_accuracy\")\n",
        "\n",
        "plt.title(\"Training and validation Accuracy on Dataset\")\n",
        "plt.xlabel(\"Epoch #\")\n",
        "plt.ylabel(\"Loss/Accuracy\")\n",
        "plt.legend(loc=\"lower left\")"
      ]
    },
    {
      "cell_type": "code",
      "execution_count": 28,
      "id": "ab5dd885",
      "metadata": {
        "execution": {
          "iopub.execute_input": "2022-05-21T16:41:08.925126Z",
          "iopub.status.busy": "2022-05-21T16:41:08.924862Z",
          "iopub.status.idle": "2022-05-21T16:41:09.065078Z",
          "shell.execute_reply": "2022-05-21T16:41:09.064303Z"
        },
        "papermill": {
          "duration": 0.947817,
          "end_time": "2022-05-21T16:41:09.067131",
          "exception": false,
          "start_time": "2022-05-21T16:41:08.119314",
          "status": "completed"
        },
        "tags": [],
        "colab": {
          "base_uri": "https://localhost:8080/"
        },
        "id": "ab5dd885",
        "outputId": "199d4e8b-9548-4a0c-9d35-a5a41158ecc4"
      },
      "outputs": [
        {
          "output_type": "stream",
          "name": "stdout",
          "text": [
            "dog\n"
          ]
        }
      ],
      "source": [
        "#check image \n",
        "import numpy as np\n",
        "from keras.preprocessing import image\n",
        "test_image = image.load_img('./drive/MyDrive/Colab Notebooks/cat_and_dog/test_set/dogs/dog.4662.jpg', target_size = (128,128))\n",
        "test_image = image.img_to_array(test_image)\n",
        "test_image = np.expand_dims(test_image, axis = 0)\n",
        "result = model.predict(test_image)\n",
        "train_set.class_indices\n",
        "if result[0][0] == 1:\n",
        "    prediction = 'dog'\n",
        "else:\n",
        "    prediction = 'cat'\n",
        "print(prediction)"
      ]
    }
  ],
  "metadata": {
    "kernelspec": {
      "display_name": "Python 3",
      "language": "python",
      "name": "python3"
    },
    "language_info": {
      "codemirror_mode": {
        "name": "ipython",
        "version": 3
      },
      "file_extension": ".py",
      "mimetype": "text/x-python",
      "name": "python",
      "nbconvert_exporter": "python",
      "pygments_lexer": "ipython3",
      "version": "3.7.12"
    },
    "papermill": {
      "default_parameters": {},
      "duration": 400.612165,
      "end_time": "2022-05-21T16:41:15.544581",
      "environment_variables": {},
      "exception": null,
      "input_path": "__notebook__.ipynb",
      "output_path": "__notebook__.ipynb",
      "parameters": {},
      "start_time": "2022-05-21T16:34:34.932416",
      "version": "2.3.4"
    },
    "colab": {
      "name": "classify-images-as-dogs-cats.ipynb",
      "provenance": []
    }
  },
  "nbformat": 4,
  "nbformat_minor": 5
}
